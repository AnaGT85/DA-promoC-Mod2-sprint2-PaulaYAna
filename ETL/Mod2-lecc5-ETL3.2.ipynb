{
 "cells": [
  {
   "attachments": {},
   "cell_type": "markdown",
   "metadata": {},
   "source": [
    "## Ejercicios de pair programming 12 enero : ETL 3.2"
   ]
  },
  {
   "cell_type": "markdown",
   "metadata": {},
   "source": [
    "Igual que en el ejercicio de pair programming de ETL Transformación II, tendréis que crear una clase que nos permita cargar los datos en SQL I."
   ]
  },
  {
   "cell_type": "code",
   "execution_count": 17,
   "metadata": {},
   "outputs": [],
   "source": [
    "#importamos las librerias\n",
    "import pandas as pd\n",
    "import mysql.connector"
   ]
  },
  {
   "cell_type": "code",
   "execution_count": 18,
   "metadata": {},
   "outputs": [],
   "source": [
    "#abrimos el archivo de tiburones limpio\n",
    "df_tiburon = pd.read_csv('../datos/tiburon8.csv', index_col = 0)\n",
    "\n",
    "#abrimos el archivo del clima\n",
    "df_clima = pd.read_csv('../datos/meteo_tiburon.csv', index_col= 0)\n",
    "\n"
   ]
  },
  {
   "cell_type": "code",
   "execution_count": 19,
   "metadata": {},
   "outputs": [
    {
     "data": {
      "text/html": [
       "<div>\n",
       "<style scoped>\n",
       "    .dataframe tbody tr th:only-of-type {\n",
       "        vertical-align: middle;\n",
       "    }\n",
       "\n",
       "    .dataframe tbody tr th {\n",
       "        vertical-align: top;\n",
       "    }\n",
       "\n",
       "    .dataframe thead th {\n",
       "        text-align: right;\n",
       "    }\n",
       "</style>\n",
       "<table border=\"1\" class=\"dataframe\">\n",
       "  <thead>\n",
       "    <tr style=\"text-align: right;\">\n",
       "      <th></th>\n",
       "      <th>case_number</th>\n",
       "      <th>year</th>\n",
       "      <th>type</th>\n",
       "      <th>country</th>\n",
       "      <th>activity</th>\n",
       "      <th>injury</th>\n",
       "      <th>mes</th>\n",
       "      <th>deceso</th>\n",
       "      <th>genero</th>\n",
       "      <th>especies</th>\n",
       "      <th>edad</th>\n",
       "    </tr>\n",
       "  </thead>\n",
       "  <tbody>\n",
       "    <tr>\n",
       "      <th>0</th>\n",
       "      <td>2018.06.25</td>\n",
       "      <td>2018</td>\n",
       "      <td>Boating</td>\n",
       "      <td>usa</td>\n",
       "      <td>Paddling</td>\n",
       "      <td>No injury to occupant, outrigger canoe and pad...</td>\n",
       "      <td>Jun</td>\n",
       "      <td>N</td>\n",
       "      <td>F</td>\n",
       "      <td>White</td>\n",
       "      <td>57.0</td>\n",
       "    </tr>\n",
       "    <tr>\n",
       "      <th>1</th>\n",
       "      <td>2018.06.03.a</td>\n",
       "      <td>2018</td>\n",
       "      <td>Unprovoked</td>\n",
       "      <td>brazil</td>\n",
       "      <td>Swimming</td>\n",
       "      <td>FATAL</td>\n",
       "      <td>Jun</td>\n",
       "      <td>Y</td>\n",
       "      <td>M</td>\n",
       "      <td>Tiger</td>\n",
       "      <td>18.0</td>\n",
       "    </tr>\n",
       "  </tbody>\n",
       "</table>\n",
       "</div>"
      ],
      "text/plain": [
       "    case_number  year        type country  activity  \\\n",
       "0    2018.06.25  2018     Boating     usa  Paddling   \n",
       "1  2018.06.03.a  2018  Unprovoked  brazil  Swimming   \n",
       "\n",
       "                                              injury  mes deceso genero  \\\n",
       "0  No injury to occupant, outrigger canoe and pad...  Jun      N      F   \n",
       "1                                              FATAL  Jun      Y      M   \n",
       "\n",
       "  especies  edad  \n",
       "0    White  57.0  \n",
       "1    Tiger  18.0  "
      ]
     },
     "execution_count": 19,
     "metadata": {},
     "output_type": "execute_result"
    }
   ],
   "source": [
    "df_tiburon.head(2)"
   ]
  },
  {
   "cell_type": "code",
   "execution_count": 20,
   "metadata": {},
   "outputs": [
    {
     "data": {
      "text/html": [
       "<div>\n",
       "<style scoped>\n",
       "    .dataframe tbody tr th:only-of-type {\n",
       "        vertical-align: middle;\n",
       "    }\n",
       "\n",
       "    .dataframe tbody tr th {\n",
       "        vertical-align: top;\n",
       "    }\n",
       "\n",
       "    .dataframe thead th {\n",
       "        text-align: right;\n",
       "    }\n",
       "</style>\n",
       "<table border=\"1\" class=\"dataframe\">\n",
       "  <thead>\n",
       "    <tr style=\"text-align: right;\">\n",
       "      <th></th>\n",
       "      <th>timepoint</th>\n",
       "      <th>cloudcover</th>\n",
       "      <th>highcloud</th>\n",
       "      <th>midcloud</th>\n",
       "      <th>lowcloud</th>\n",
       "      <th>rh_profile</th>\n",
       "      <th>wind_profile</th>\n",
       "      <th>temp2m</th>\n",
       "      <th>lifted_index</th>\n",
       "      <th>rh2m</th>\n",
       "      <th>msl_pressure</th>\n",
       "      <th>prec_type</th>\n",
       "      <th>prec_amount</th>\n",
       "      <th>snow_depth</th>\n",
       "      <th>wind10m.direction</th>\n",
       "      <th>wind10m.speed</th>\n",
       "      <th>pais</th>\n",
       "    </tr>\n",
       "  </thead>\n",
       "  <tbody>\n",
       "    <tr>\n",
       "      <th>0</th>\n",
       "      <td>3</td>\n",
       "      <td>1</td>\n",
       "      <td>-9999</td>\n",
       "      <td>-9999</td>\n",
       "      <td>-9999</td>\n",
       "      <td>[{'layer': '950mb', 'rh': 3}, {'layer': '900mb...</td>\n",
       "      <td>[{'layer': '950mb', 'direction': 210, 'speed':...</td>\n",
       "      <td>12</td>\n",
       "      <td>15</td>\n",
       "      <td>4</td>\n",
       "      <td>1026</td>\n",
       "      <td>none</td>\n",
       "      <td>0</td>\n",
       "      <td>0</td>\n",
       "      <td>270</td>\n",
       "      <td>2</td>\n",
       "      <td>USA</td>\n",
       "    </tr>\n",
       "    <tr>\n",
       "      <th>1</th>\n",
       "      <td>6</td>\n",
       "      <td>1</td>\n",
       "      <td>-9999</td>\n",
       "      <td>-9999</td>\n",
       "      <td>-9999</td>\n",
       "      <td>[{'layer': '950mb', 'rh': 2}, {'layer': '900mb...</td>\n",
       "      <td>[{'layer': '950mb', 'direction': 345, 'speed':...</td>\n",
       "      <td>12</td>\n",
       "      <td>15</td>\n",
       "      <td>3</td>\n",
       "      <td>1027</td>\n",
       "      <td>none</td>\n",
       "      <td>0</td>\n",
       "      <td>0</td>\n",
       "      <td>15</td>\n",
       "      <td>2</td>\n",
       "      <td>USA</td>\n",
       "    </tr>\n",
       "  </tbody>\n",
       "</table>\n",
       "</div>"
      ],
      "text/plain": [
       "   timepoint  cloudcover  highcloud  midcloud  lowcloud  \\\n",
       "0          3           1      -9999     -9999     -9999   \n",
       "1          6           1      -9999     -9999     -9999   \n",
       "\n",
       "                                          rh_profile  \\\n",
       "0  [{'layer': '950mb', 'rh': 3}, {'layer': '900mb...   \n",
       "1  [{'layer': '950mb', 'rh': 2}, {'layer': '900mb...   \n",
       "\n",
       "                                        wind_profile  temp2m  lifted_index  \\\n",
       "0  [{'layer': '950mb', 'direction': 210, 'speed':...      12            15   \n",
       "1  [{'layer': '950mb', 'direction': 345, 'speed':...      12            15   \n",
       "\n",
       "   rh2m  msl_pressure prec_type  prec_amount  snow_depth  wind10m.direction  \\\n",
       "0     4          1026      none            0           0                270   \n",
       "1     3          1027      none            0           0                 15   \n",
       "\n",
       "   wind10m.speed pais  \n",
       "0              2  USA  \n",
       "1              2  USA  "
      ]
     },
     "execution_count": 20,
     "metadata": {},
     "output_type": "execute_result"
    }
   ],
   "source": [
    "df_clima.head(2)"
   ]
  },
  {
   "cell_type": "code",
   "execution_count": 21,
   "metadata": {},
   "outputs": [],
   "source": [
    "class Bbdd:\n",
    "\n",
    "    def __init__ (self, nombre_bbdd, contraseña):\n",
    "        self.nombre_bbdd = nombre_bbdd\n",
    "        self.contraseña = contraseña\n",
    "\n",
    "\n",
    "    def crear_bbdd(self):\n",
    "\n",
    "        mydb = mysql.connector.connect(\n",
    "        host=\"localhost\",\n",
    "        user=\"root\",\n",
    "        password=f\"{self.contraseña}\"\n",
    "        )\n",
    "        print(\"Conexión realizada con éxito\")\n",
    "        \n",
    "        mycursor = mydb.cursor()\n",
    "\n",
    "        try:\n",
    "            mycursor.execute(f\"CREATE DATABASE IF NOT EXISTS {self.nombre_bbdd};\")\n",
    "            print(mycursor)\n",
    "        except mysql.connector.Error as err:\n",
    "            print(err)\n",
    "            print(\"Error Code:\", err.errno)\n",
    "            print(\"SQLSTATE\", err.sqlstate)\n",
    "            print(\"Message\", err.msg)\n",
    "\n",
    "\n",
    "\n",
    "    #creamos una funcion para crear tabla nueva\n",
    "    def crear_insertar_tabla(self, query):\n",
    "        self.query = query\n",
    "        \n",
    "        # nos conectamsos con el servidor usando el conector de sql\n",
    "        cnx = mysql.connector.connect(user='root', password=f\"{self.contraseña}\",\n",
    "                                        host='127.0.0.1', database=f\"{self.nombre_bbdd}\")\n",
    "        # iniciamos el cursor\n",
    "        mycursor = cnx.cursor()\n",
    "        \n",
    "        # intentamos hacer la query\n",
    "        try: \n",
    "            mycursor.execute(self.query)\n",
    "            cnx.commit() \n",
    "        # en caso de que podamos ejecutar la query devuelvenos un error para saber en que nos estamos equivocando\n",
    "        except mysql.connector.Error as err:\n",
    "            print(err)\n",
    "            print(\"Error Code:\", err.errno)\n",
    "            print(\"SQLSTATE\", err.sqlstate)\n",
    "            print(\"Message\", err.msg)\n",
    "\n",
    "\n",
    "\n",
    "\n"
   ]
  },
  {
   "cell_type": "code",
   "execution_count": 22,
   "metadata": {},
   "outputs": [],
   "source": [
    "mi_bbdd = Bbdd(\"tiburones\", \"AlumnaAdalab\")"
   ]
  },
  {
   "cell_type": "code",
   "execution_count": 23,
   "metadata": {},
   "outputs": [
    {
     "name": "stdout",
     "output_type": "stream",
     "text": [
      "Conexión realizada con éxito\n",
      "MySQLCursor: CREATE DATABASE IF NOT EXISTS tiburones;\n"
     ]
    }
   ],
   "source": [
    "paso = mi_bbdd.crear_bbdd()"
   ]
  },
  {
   "cell_type": "code",
   "execution_count": 24,
   "metadata": {},
   "outputs": [],
   "source": [
    "#hacemos la query para la tabla ataques\n",
    "tabla_ataques = '''\n",
    "CREATE TABLE IF NOT EXISTS `tiburones`.`ataques` (\n",
    "  `case_number` VARCHAR(20) NOT NULL ,\n",
    "  `year`INT NOT NULL,\n",
    "  `type` VARCHAR(50) NOT NULL,\n",
    "  `country` VARCHAR(50),\n",
    "  `activity` VARCHAR (200),\n",
    "  `injury` TEXT,\n",
    "  `mes` VARCHAR (10),\n",
    "  `deceso` VARCHAR(20),\n",
    "  `genero` VARCHAR (20),\n",
    "  `especies` VARCHAR (50),\n",
    "  `edad` FLOAT,\n",
    "  PRIMARY KEY (`case_number`))\n",
    "ENGINE = InnoDB;\n",
    "'''"
   ]
  },
  {
   "cell_type": "code",
   "execution_count": 25,
   "metadata": {},
   "outputs": [],
   "source": [
    "tabla1 = mi_bbdd.crear_insertar_tabla(tabla_ataques)"
   ]
  },
  {
   "cell_type": "code",
   "execution_count": 26,
   "metadata": {},
   "outputs": [],
   "source": [
    "#hacemos la query para la tabla clima\n",
    "\n",
    "tabla_clima = '''\n",
    "CREATE TABLE IF NOT EXISTS `tiburones`.`clima` (\n",
    "  `index` INT NOT NULL AUTO_INCREMENT,\n",
    "  `timepoint` INT,\n",
    "  `cloudcover` INT, \n",
    "  `highcloud` INT, \n",
    "  `midcloud` INT, \n",
    "  `lowcloud` INT,\n",
    "  `rh_profile` TEXT, \n",
    "  `wind_profile` TEXT, \n",
    "  `temp2m` INT, \n",
    "  `lifted_index` INT, \n",
    "  `rh2m` INT,\n",
    "  `msl_pressure` INT, \n",
    "  `prec_type` VARCHAR (10), \n",
    "  `prec_amount` INT, \n",
    "  `snow_depth` INT,\n",
    "  `wind10m_direction` INT, \n",
    "  `wind10m_speed` INT, \n",
    "  `pais` VARCHAR (20),\n",
    "  PRIMARY KEY (`index`))\n",
    "ENGINE = InnoDB;\n",
    "'''"
   ]
  },
  {
   "cell_type": "code",
   "execution_count": 27,
   "metadata": {},
   "outputs": [],
   "source": [
    "tabla2 = mi_bbdd.crear_insertar_tabla(tabla_clima)"
   ]
  },
  {
   "cell_type": "code",
   "execution_count": 28,
   "metadata": {},
   "outputs": [
    {
     "name": "stdout",
     "output_type": "stream",
     "text": [
      "Ya estan los datos insertados en tu tabla\n"
     ]
    }
   ],
   "source": [
    "for indice, fila in df_tiburon.iterrows(): # itreamos por el dataframe.\n",
    "    \n",
    "    \n",
    "    query_tiburon = f\"\"\"\n",
    "            INSERT INTO ataques (case_number, year, type, country, activity, injury, mes, deceso, genero, especies, edad) \n",
    "            VALUES ( \"{fila['case_number']}\", \"{fila['year']}\", \"{fila['type']}\", \"{fila['country']}\", \"{fila['activity']}\", \"{fila['injury']}\", \"{fila['mes']}\", \"{fila['deceso']}\", \"{fila['genero']}\", \"{fila['especies']}\", \"{fila['edad']}\");\n",
    "            \"\"\"\n",
    "    mi_bbdd.crear_insertar_tabla(query_tiburon)\n",
    "print(\"Ya estan los datos insertados en tu tabla\")"
   ]
  },
  {
   "cell_type": "code",
   "execution_count": 29,
   "metadata": {},
   "outputs": [
    {
     "name": "stdout",
     "output_type": "stream",
     "text": [
      "Ya estan los datos insertados en tu tabla\n"
     ]
    }
   ],
   "source": [
    "for indice, fila in df_clima.iterrows(): # itreamos por el dataframe.\n",
    "       \n",
    "    query_clima = f\"\"\"\n",
    "            INSERT INTO clima (timepoint, cloudcover, highcloud, midcloud, lowcloud, rh_profile, wind_profile, temp2m, lifted_index, rh2m, msl_pressure, prec_type, \n",
    "            prec_amount, snow_depth, wind10m_direction, wind10m_speed, pais) \n",
    "            VALUES (\"{fila['timepoint']}\", \"{fila['cloudcover']}\", \"{fila['highcloud']}\", \"{fila['midcloud']}\", \"{fila['lowcloud']}\", \"{fila['rh_profile']}\", \"{fila['wind_profile']}\", \"{fila['temp2m']}\", \"{fila['lifted_index']}\", \"{fila['rh2m']}\", \n",
    "            \"{fila['msl_pressure']}\", \"{fila['prec_type']}\", \"{fila['prec_amount']}\", \"{fila['snow_depth']}\", \"{fila['wind10m.direction']}\", \"{fila['wind10m.speed']}\", \"{fila['pais']}\");\n",
    "            \"\"\"\n",
    "    mi_bbdd.crear_insertar_tabla(query_clima)\n",
    "print(\"Ya estan los datos insertados en tu tabla\")"
   ]
  }
 ],
 "metadata": {
  "kernelspec": {
   "display_name": "Python 3.9.7 ('base')",
   "language": "python",
   "name": "python3"
  },
  "language_info": {
   "codemirror_mode": {
    "name": "ipython",
    "version": 3
   },
   "file_extension": ".py",
   "mimetype": "text/x-python",
   "name": "python",
   "nbconvert_exporter": "python",
   "pygments_lexer": "ipython3",
   "version": "3.9.7"
  },
  "orig_nbformat": 4,
  "vscode": {
   "interpreter": {
    "hash": "3caf7024699363795119074055a58e45741f300ae36cbc0c7edc7c57844505fc"
   }
  }
 },
 "nbformat": 4,
 "nbformat_minor": 2
}
