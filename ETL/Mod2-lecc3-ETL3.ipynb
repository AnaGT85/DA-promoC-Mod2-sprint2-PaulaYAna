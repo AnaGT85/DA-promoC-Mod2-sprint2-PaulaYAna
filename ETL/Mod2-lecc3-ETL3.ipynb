{
 "cells": [
  {
   "attachments": {},
   "cell_type": "markdown",
   "metadata": {},
   "source": [
    "## Ejercicios de pair programming 11 enero : ETL 3"
   ]
  },
  {
   "cell_type": "markdown",
   "metadata": {},
   "source": [
    "Tendréis que crear una clase con el código que usamos en los ejercicios de pair programming de ETL Transformación I y II."
   ]
  },
  {
   "cell_type": "code",
   "execution_count": 27,
   "metadata": {},
   "outputs": [],
   "source": [
    "from IPython.core.interactiveshell import InteractiveShell \n",
    "InteractiveShell.ast_node_interactivity = \"all\" \n",
    "\n",
    "import requests\n",
    "import pandas as pd\n",
    "import numpy as np\n",
    "import ast"
   ]
  },
  {
   "cell_type": "code",
   "execution_count": 4,
   "metadata": {},
   "outputs": [],
   "source": [
    "df = pd.read_csv(\"../datos/tiburon8.csv\", index_col=0)"
   ]
  },
  {
   "cell_type": "code",
   "execution_count": 30,
   "metadata": {},
   "outputs": [],
   "source": [
    "class Extraccion_union:\n",
    "    def __init__(self, dicc_paises, df):\n",
    "        self.dicc_paises = dicc_paises\n",
    "        self.df = df\n",
    "\n",
    "    def llamada_API (self):\n",
    "        df_meteo = pd.DataFrame()  #Creamos un df vacio para ir añadiendo los resultados de las peticiones de informacion a la API por cada pais\n",
    "        for k , v in self.dicc_paises.items():   #iteramos por cada key y value de nuestro diccionario\n",
    "            lon = v[0]   #la longitud sera el valor 0 de nuestra lista de values\n",
    "            lat= v[1]     #la latitud sera el valor 1 de nuestra lista de values\n",
    "            url = f'http://www.7timer.info/bin/api.pl?lon=-{lon}&lat={lat}&product=meteo&output=json'     #llamamos a la url de la API\n",
    "        \n",
    "            response = requests.get(url=url)\n",
    "            response.status_code\n",
    "            response.reason\n",
    "\n",
    "            meteo = response.json()\n",
    "            meteo_data = meteo[\"dataseries\"]  #necesitamos la info de la columna dataseries \n",
    "            meteo_df = pd.json_normalize(meteo_data)   #generamos un df \n",
    "            meteo_df[\"country\"] = k.lower()   #creamos una columna llamada pais \n",
    "            df_meteo = pd.concat([df_meteo , meteo_df], axis= 0 , join= 'outer')  #concatenamos cada resultado de cada pais al df vacio\n",
    "        return df_meteo\n",
    "\n",
    "    def filtrado (self, list_paises):\n",
    "        self.list_paises = list_paises\n",
    "\n",
    "        df_filtrado = self.df[self.df['country'].isin(self.list_paises)]\n",
    "        return df_filtrado\n",
    "\n",
    "\n",
    "    def limpiar_clima(self, data):\n",
    "        data = self.llamada_API()\n",
    "\n",
    "        data['rh_profile']= data['rh_profile'].apply(ast.literal_eval)\n",
    "        data['wind_profile']= data['wind_profile'].apply(ast.literal_eval)\n",
    "\n",
    "        rh = data['rh_profile'].apply(pd.Series)\n",
    "\n",
    "        for i in range(len(rh.columns)): \n",
    "            nombre = \"rh_\" + str(rh.iloc[0][i]['layer']) \n",
    "            valores = list(rh[i].apply(pd.Series)[\"rh\"] )\n",
    "            data.insert(i, nombre, valores) # Insertamos cada columna al df de clima\n",
    "\n",
    "\n",
    "        wind = data['wind_profile'].apply(pd.Series)\n",
    "\n",
    "        for i in range(len(wind.columns)): \n",
    "            nombre_dir = \"wdir_\" + str(wind.iloc[0][i]['layer']) \n",
    "            valores_dir = list(wind[i].apply(pd.Series)[\"direction\"] )\n",
    "\n",
    "            nombre_speed = \"wspeed_\" + str(wind.iloc[0][i]['layer']) \n",
    "            valores_speed = list(wind[i].apply(pd.Series)[\"speed\"] )\n",
    "\n",
    "            data.insert(i, nombre_dir, valores_dir) # Insertamos las columnas generadas en el df de clima\n",
    "            data.insert(i, nombre_speed, valores_speed)\n",
    "\n",
    "\n",
    "        data = data.groupby('country').mean()\n",
    "        data = data.reset_index()\n",
    "        return data\n",
    "\n",
    "    def union_guardado(self, data, df_filtrado, nombre_guardado):\n",
    "        data = self.limpiar_clima()\n",
    "        df_filtrado = self.filtrado()\n",
    "\n",
    "        self.nombre_guardado = nombre_guardado\n",
    "\n",
    "        df_final = df_filtrado.merge(data, how='left',  on='country')\n",
    "\n",
    "        df_final.to_csv(f'../datos/{self.nombre_guardado}')\n",
    "        return df_final.head()"
   ]
  },
  {
   "cell_type": "code",
   "execution_count": 3,
   "metadata": {},
   "outputs": [],
   "source": [
    "dicc_paises = {\"USA\" : [-100.445882, 39.7837304] , \"Australia\" : [134.755 , -24.7761086] , \"South Africa\" : [24.991639 , -28.8166236] , \n",
    "\"New Zealand\" : [172.8344077, -41.5000831], \"Papua New Guinea\": [144.2489081, -5.6816069]}  #Creamos el diccionario con los datos proporcionados"
   ]
  },
  {
   "cell_type": "code",
   "execution_count": 31,
   "metadata": {},
   "outputs": [],
   "source": [
    "api = Extraccion_union(dicc_paises, df)"
   ]
  },
  {
   "cell_type": "code",
   "execution_count": 10,
   "metadata": {},
   "outputs": [
    {
     "data": {
      "text/html": [
       "<div>\n",
       "<style scoped>\n",
       "    .dataframe tbody tr th:only-of-type {\n",
       "        vertical-align: middle;\n",
       "    }\n",
       "\n",
       "    .dataframe tbody tr th {\n",
       "        vertical-align: top;\n",
       "    }\n",
       "\n",
       "    .dataframe thead th {\n",
       "        text-align: right;\n",
       "    }\n",
       "</style>\n",
       "<table border=\"1\" class=\"dataframe\">\n",
       "  <thead>\n",
       "    <tr style=\"text-align: right;\">\n",
       "      <th></th>\n",
       "      <th>timepoint</th>\n",
       "      <th>cloudcover</th>\n",
       "      <th>highcloud</th>\n",
       "      <th>midcloud</th>\n",
       "      <th>lowcloud</th>\n",
       "      <th>rh_profile</th>\n",
       "      <th>wind_profile</th>\n",
       "      <th>temp2m</th>\n",
       "      <th>lifted_index</th>\n",
       "      <th>rh2m</th>\n",
       "      <th>msl_pressure</th>\n",
       "      <th>prec_type</th>\n",
       "      <th>prec_amount</th>\n",
       "      <th>snow_depth</th>\n",
       "      <th>wind10m.direction</th>\n",
       "      <th>wind10m.speed</th>\n",
       "      <th>pais</th>\n",
       "    </tr>\n",
       "  </thead>\n",
       "  <tbody>\n",
       "    <tr>\n",
       "      <th>0</th>\n",
       "      <td>3</td>\n",
       "      <td>9</td>\n",
       "      <td>-9999</td>\n",
       "      <td>-9999</td>\n",
       "      <td>-9999</td>\n",
       "      <td>[{'layer': '950mb', 'rh': 4}, {'layer': '900mb...</td>\n",
       "      <td>[{'layer': '950mb', 'direction': 320, 'speed':...</td>\n",
       "      <td>13</td>\n",
       "      <td>15</td>\n",
       "      <td>5</td>\n",
       "      <td>1024</td>\n",
       "      <td>none</td>\n",
       "      <td>0</td>\n",
       "      <td>0</td>\n",
       "      <td>265</td>\n",
       "      <td>2</td>\n",
       "      <td>USA</td>\n",
       "    </tr>\n",
       "    <tr>\n",
       "      <th>1</th>\n",
       "      <td>6</td>\n",
       "      <td>6</td>\n",
       "      <td>-9999</td>\n",
       "      <td>-9999</td>\n",
       "      <td>-9999</td>\n",
       "      <td>[{'layer': '950mb', 'rh': 3}, {'layer': '900mb...</td>\n",
       "      <td>[{'layer': '950mb', 'direction': 355, 'speed':...</td>\n",
       "      <td>12</td>\n",
       "      <td>15</td>\n",
       "      <td>5</td>\n",
       "      <td>1024</td>\n",
       "      <td>none</td>\n",
       "      <td>0</td>\n",
       "      <td>0</td>\n",
       "      <td>345</td>\n",
       "      <td>2</td>\n",
       "      <td>USA</td>\n",
       "    </tr>\n",
       "  </tbody>\n",
       "</table>\n",
       "</div>"
      ],
      "text/plain": [
       "   timepoint  cloudcover  highcloud  midcloud  lowcloud  \\\n",
       "0          3           9      -9999     -9999     -9999   \n",
       "1          6           6      -9999     -9999     -9999   \n",
       "\n",
       "                                          rh_profile  \\\n",
       "0  [{'layer': '950mb', 'rh': 4}, {'layer': '900mb...   \n",
       "1  [{'layer': '950mb', 'rh': 3}, {'layer': '900mb...   \n",
       "\n",
       "                                        wind_profile  temp2m  lifted_index  \\\n",
       "0  [{'layer': '950mb', 'direction': 320, 'speed':...      13            15   \n",
       "1  [{'layer': '950mb', 'direction': 355, 'speed':...      12            15   \n",
       "\n",
       "   rh2m  msl_pressure prec_type  prec_amount  snow_depth wind10m.direction  \\\n",
       "0     5          1024      none            0           0               265   \n",
       "1     5          1024      none            0           0               345   \n",
       "\n",
       "   wind10m.speed pais  \n",
       "0              2  USA  \n",
       "1              2  USA  "
      ]
     },
     "execution_count": 10,
     "metadata": {},
     "output_type": "execute_result"
    }
   ],
   "source": [
    "df_meteo = api.llamada_API()\n",
    "df_meteo.head(2)\n"
   ]
  },
  {
   "cell_type": "code",
   "execution_count": 32,
   "metadata": {},
   "outputs": [],
   "source": [
    "lista_paises = ['usa', 'australia', 'new zealand', 'south africa', 'papua new guinea']"
   ]
  },
  {
   "cell_type": "code",
   "execution_count": 33,
   "metadata": {},
   "outputs": [
    {
     "data": {
      "text/html": [
       "<div>\n",
       "<style scoped>\n",
       "    .dataframe tbody tr th:only-of-type {\n",
       "        vertical-align: middle;\n",
       "    }\n",
       "\n",
       "    .dataframe tbody tr th {\n",
       "        vertical-align: top;\n",
       "    }\n",
       "\n",
       "    .dataframe thead th {\n",
       "        text-align: right;\n",
       "    }\n",
       "</style>\n",
       "<table border=\"1\" class=\"dataframe\">\n",
       "  <thead>\n",
       "    <tr style=\"text-align: right;\">\n",
       "      <th></th>\n",
       "      <th>case_number</th>\n",
       "      <th>year</th>\n",
       "      <th>type</th>\n",
       "      <th>country</th>\n",
       "      <th>activity</th>\n",
       "      <th>injury</th>\n",
       "      <th>mes</th>\n",
       "      <th>deceso</th>\n",
       "      <th>genero</th>\n",
       "      <th>especies</th>\n",
       "      <th>edad</th>\n",
       "    </tr>\n",
       "  </thead>\n",
       "  <tbody>\n",
       "    <tr>\n",
       "      <th>0</th>\n",
       "      <td>2018.06.25</td>\n",
       "      <td>2018</td>\n",
       "      <td>Boating</td>\n",
       "      <td>usa</td>\n",
       "      <td>Paddling</td>\n",
       "      <td>No injury to occupant, outrigger canoe and pad...</td>\n",
       "      <td>Jun</td>\n",
       "      <td>N</td>\n",
       "      <td>F</td>\n",
       "      <td>White</td>\n",
       "      <td>57.0</td>\n",
       "    </tr>\n",
       "    <tr>\n",
       "      <th>2</th>\n",
       "      <td>2018.05.26.b</td>\n",
       "      <td>2018</td>\n",
       "      <td>Unprovoked</td>\n",
       "      <td>usa</td>\n",
       "      <td>Walking</td>\n",
       "      <td>Lower left leg bitten</td>\n",
       "      <td>May</td>\n",
       "      <td>N</td>\n",
       "      <td>M</td>\n",
       "      <td>Bull</td>\n",
       "      <td>15.0</td>\n",
       "    </tr>\n",
       "  </tbody>\n",
       "</table>\n",
       "</div>"
      ],
      "text/plain": [
       "    case_number  year        type country  activity  \\\n",
       "0    2018.06.25  2018     Boating     usa  Paddling   \n",
       "2  2018.05.26.b  2018  Unprovoked     usa   Walking   \n",
       "\n",
       "                                              injury  mes deceso genero  \\\n",
       "0  No injury to occupant, outrigger canoe and pad...  Jun      N      F   \n",
       "2                              Lower left leg bitten  May      N      M   \n",
       "\n",
       "  especies  edad  \n",
       "0    White  57.0  \n",
       "2     Bull  15.0  "
      ]
     },
     "execution_count": 33,
     "metadata": {},
     "output_type": "execute_result"
    }
   ],
   "source": [
    "df_filtrado = api.filtrado(lista_paises)\n",
    "df_filtrado.head(2)"
   ]
  },
  {
   "cell_type": "code",
   "execution_count": 34,
   "metadata": {},
   "outputs": [
    {
     "name": "stderr",
     "output_type": "stream",
     "text": [
      "/tmp/ipykernel_759/3465292018.py:60: FutureWarning: The default value of numeric_only in DataFrameGroupBy.mean is deprecated. In a future version, numeric_only will default to False. Either specify numeric_only or select only columns which should be valid for the function.\n",
      "  data = data.groupby('country').mean()\n"
     ]
    }
   ],
   "source": [
    "clima = api.limpiar_clima()"
   ]
  },
  {
   "cell_type": "code",
   "execution_count": null,
   "metadata": {},
   "outputs": [],
   "source": [
    "df_meteo = api.llamada_API()"
   ]
  },
  {
   "cell_type": "code",
   "execution_count": 35,
   "metadata": {},
   "outputs": [
    {
     "name": "stderr",
     "output_type": "stream",
     "text": [
      "/tmp/ipykernel_759/3465292018.py:60: FutureWarning: The default value of numeric_only in DataFrameGroupBy.mean is deprecated. In a future version, numeric_only will default to False. Either specify numeric_only or select only columns which should be valid for the function.\n",
      "  data = data.groupby('country').mean()\n"
     ]
    },
    {
     "ename": "TypeError",
     "evalue": "filtrado() missing 1 required positional argument: 'list_paises'",
     "output_type": "error",
     "traceback": [
      "\u001b[0;31m---------------------------------------------------------------------------\u001b[0m",
      "\u001b[0;31mTypeError\u001b[0m                                 Traceback (most recent call last)",
      "Cell \u001b[0;32mIn [35], line 1\u001b[0m\n\u001b[0;32m----> 1\u001b[0m df_final \u001b[39m=\u001b[39m api\u001b[39m.\u001b[39;49munion_guardado(\u001b[39m'\u001b[39;49m\u001b[39mtiburon10.csv\u001b[39;49m\u001b[39m'\u001b[39;49m)\n",
      "Cell \u001b[0;32mIn [30], line 66\u001b[0m, in \u001b[0;36mExtraccion_union.union_guardado\u001b[0;34m(self, nombre_guardado)\u001b[0m\n\u001b[1;32m     64\u001b[0m \u001b[39mdef\u001b[39;00m \u001b[39munion_guardado\u001b[39m(\u001b[39mself\u001b[39m, nombre_guardado):\n\u001b[1;32m     65\u001b[0m     data \u001b[39m=\u001b[39m \u001b[39mself\u001b[39m\u001b[39m.\u001b[39mlimpiar_clima()\n\u001b[0;32m---> 66\u001b[0m     df_filtrado \u001b[39m=\u001b[39m \u001b[39mself\u001b[39;49m\u001b[39m.\u001b[39;49mfiltrado()\n\u001b[1;32m     67\u001b[0m     \u001b[39mself\u001b[39m\u001b[39m.\u001b[39mnombre_guardado \u001b[39m=\u001b[39m nombre_guardado\n\u001b[1;32m     69\u001b[0m     df_final \u001b[39m=\u001b[39m df_filtrado\u001b[39m.\u001b[39mmerge(data, how\u001b[39m=\u001b[39m\u001b[39m'\u001b[39m\u001b[39mleft\u001b[39m\u001b[39m'\u001b[39m,  on\u001b[39m=\u001b[39m\u001b[39m'\u001b[39m\u001b[39mcountry\u001b[39m\u001b[39m'\u001b[39m)\n",
      "\u001b[0;31mTypeError\u001b[0m: filtrado() missing 1 required positional argument: 'list_paises'"
     ]
    }
   ],
   "source": [
    "df_final = api.union_guardado('tiburon10.csv')"
   ]
  }
 ],
 "metadata": {
  "kernelspec": {
   "display_name": "base",
   "language": "python",
   "name": "python3"
  },
  "language_info": {
   "codemirror_mode": {
    "name": "ipython",
    "version": 3
   },
   "file_extension": ".py",
   "mimetype": "text/x-python",
   "name": "python",
   "nbconvert_exporter": "python",
   "pygments_lexer": "ipython3",
   "version": "3.9.13"
  },
  "orig_nbformat": 4,
  "vscode": {
   "interpreter": {
    "hash": "85c042135e83639dad74b6ec6c9d943b5dc47ca281624d931a3e14168052f53c"
   }
  }
 },
 "nbformat": 4,
 "nbformat_minor": 2
}
