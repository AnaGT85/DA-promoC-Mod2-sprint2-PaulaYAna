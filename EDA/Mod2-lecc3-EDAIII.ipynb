{
 "cells": [
  {
   "cell_type": "markdown",
   "metadata": {},
   "source": [
    "## Ejercicios de pair programming 4 enero: EDA III"
   ]
  },
  {
   "cell_type": "code",
   "execution_count": 12,
   "metadata": {},
   "outputs": [],
   "source": [
    "import pandas as pd\n",
    "import numpy as np\n",
    "import seaborn as sns\n",
    "import matplotlib.pyplot as plt\n",
    "import sidetable\n",
    "\n",
    "# establecemos el tamaño nuestras figuras\n",
    "plt.rcParams[\"figure.figsize\"] = (10,8)"
   ]
  },
  {
   "cell_type": "code",
   "execution_count": 9,
   "metadata": {},
   "outputs": [],
   "source": [
    "#abrimos el archivo\n",
    "df= pd.read_csv(\"../datos/tiburon6.csv\", index_col= 0)"
   ]
  },
  {
   "cell_type": "markdown",
   "metadata": {},
   "source": [
    "2.1 Manos a la obra con los plots, estos irán muy dirigidos hacia las preguntas que queremos contestar, para hacer una primera aproximación a nuestras hipótesis:\n",
    "\n",
    "¿Cuántos ataques hubo por pais? ¿Se puede ver algo claro si ploteamos todos los paises? En caso de que no, seleccionad solo los 10 paises con más ataques y volved a hacer el plot."
   ]
  },
  {
   "cell_type": "code",
   "execution_count": 10,
   "metadata": {},
   "outputs": [
    {
     "data": {
      "text/html": [
       "<div>\n",
       "<style scoped>\n",
       "    .dataframe tbody tr th:only-of-type {\n",
       "        vertical-align: middle;\n",
       "    }\n",
       "\n",
       "    .dataframe tbody tr th {\n",
       "        vertical-align: top;\n",
       "    }\n",
       "\n",
       "    .dataframe thead th {\n",
       "        text-align: right;\n",
       "    }\n",
       "</style>\n",
       "<table border=\"1\" class=\"dataframe\">\n",
       "  <thead>\n",
       "    <tr style=\"text-align: right;\">\n",
       "      <th></th>\n",
       "      <th>case_number</th>\n",
       "      <th>year</th>\n",
       "      <th>type</th>\n",
       "      <th>country</th>\n",
       "      <th>activity</th>\n",
       "      <th>injury</th>\n",
       "      <th>mes</th>\n",
       "      <th>deceso</th>\n",
       "      <th>genero</th>\n",
       "      <th>especies</th>\n",
       "      <th>edad</th>\n",
       "    </tr>\n",
       "  </thead>\n",
       "  <tbody>\n",
       "    <tr>\n",
       "      <th>0</th>\n",
       "      <td>2018.06.25</td>\n",
       "      <td>2018</td>\n",
       "      <td>Boating</td>\n",
       "      <td>usa</td>\n",
       "      <td>Paddling</td>\n",
       "      <td>No injury to occupant, outrigger canoe and pad...</td>\n",
       "      <td>Jun</td>\n",
       "      <td>N</td>\n",
       "      <td>F</td>\n",
       "      <td>White</td>\n",
       "      <td>57.0</td>\n",
       "    </tr>\n",
       "    <tr>\n",
       "      <th>1</th>\n",
       "      <td>2018.06.03.a</td>\n",
       "      <td>2018</td>\n",
       "      <td>Unprovoked</td>\n",
       "      <td>brazil</td>\n",
       "      <td>Swimming</td>\n",
       "      <td>FATAL</td>\n",
       "      <td>Jun</td>\n",
       "      <td>Y</td>\n",
       "      <td>M</td>\n",
       "      <td>Tiger</td>\n",
       "      <td>18.0</td>\n",
       "    </tr>\n",
       "    <tr>\n",
       "      <th>2</th>\n",
       "      <td>2018.05.26.b</td>\n",
       "      <td>2018</td>\n",
       "      <td>Unprovoked</td>\n",
       "      <td>usa</td>\n",
       "      <td>Walking</td>\n",
       "      <td>Lower left leg bitten</td>\n",
       "      <td>May</td>\n",
       "      <td>N</td>\n",
       "      <td>M</td>\n",
       "      <td>Bull</td>\n",
       "      <td>15.0</td>\n",
       "    </tr>\n",
       "    <tr>\n",
       "      <th>3</th>\n",
       "      <td>2018.05.24</td>\n",
       "      <td>2018</td>\n",
       "      <td>Provoked</td>\n",
       "      <td>australia</td>\n",
       "      <td>Feeding sharks</td>\n",
       "      <td>Minor bite to hand by captive shark. PROVOKED ...</td>\n",
       "      <td>May</td>\n",
       "      <td>N</td>\n",
       "      <td>M</td>\n",
       "      <td>Grey</td>\n",
       "      <td>32.0</td>\n",
       "    </tr>\n",
       "    <tr>\n",
       "      <th>4</th>\n",
       "      <td>2018.05.13.a</td>\n",
       "      <td>2018</td>\n",
       "      <td>Invalid</td>\n",
       "      <td>england</td>\n",
       "      <td>Fishing</td>\n",
       "      <td>Injured by teeth of a dead porbeagle shark he ...</td>\n",
       "      <td>May</td>\n",
       "      <td>N</td>\n",
       "      <td>M</td>\n",
       "      <td>Unspecified</td>\n",
       "      <td>21.0</td>\n",
       "    </tr>\n",
       "  </tbody>\n",
       "</table>\n",
       "</div>"
      ],
      "text/plain": [
       "    case_number  year        type    country        activity  \\\n",
       "0    2018.06.25  2018     Boating        usa        Paddling   \n",
       "1  2018.06.03.a  2018  Unprovoked     brazil        Swimming   \n",
       "2  2018.05.26.b  2018  Unprovoked        usa         Walking   \n",
       "3    2018.05.24  2018    Provoked  australia  Feeding sharks   \n",
       "4  2018.05.13.a  2018     Invalid    england         Fishing   \n",
       "\n",
       "                                              injury  mes deceso genero  \\\n",
       "0  No injury to occupant, outrigger canoe and pad...  Jun      N      F   \n",
       "1                                              FATAL  Jun      Y      M   \n",
       "2                              Lower left leg bitten  May      N      M   \n",
       "3  Minor bite to hand by captive shark. PROVOKED ...  May      N      M   \n",
       "4  Injured by teeth of a dead porbeagle shark he ...  May      N      M   \n",
       "\n",
       "      especies  edad  \n",
       "0        White  57.0  \n",
       "1        Tiger  18.0  \n",
       "2         Bull  15.0  \n",
       "3         Grey  32.0  \n",
       "4  Unspecified  21.0  "
      ]
     },
     "execution_count": 10,
     "metadata": {},
     "output_type": "execute_result"
    }
   ],
   "source": [
    "df.head()"
   ]
  },
  {
   "cell_type": "code",
   "execution_count": 26,
   "metadata": {},
   "outputs": [
    {
     "data": {
      "image/png": "[encoded data removed]",
      "text/plain": [
       "<Figure size 720x576 with 1 Axes>"
      ]
     },
     "metadata": {
      "needs_background": "light"
     },
     "output_type": "display_data"
    }
   ],
   "source": [
    "#intentamos una grafica con todos los paises del df\n",
    "sns.countplot(x = \"country\", data = df)\n",
    "plt.show();\n"
   ]
  },
  {
   "cell_type": "markdown",
   "metadata": {},
   "source": [
    "Sale demasiado ruido en la grafica y no podemos distinguir nada asi que vamos a sacar los 10 paises con mas ataques"
   ]
  },
  {
   "cell_type": "code",
   "execution_count": 28,
   "metadata": {},
   "outputs": [
    {
     "data": {
      "text/html": [
       "<div>\n",
       "<style scoped>\n",
       "    .dataframe tbody tr th:only-of-type {\n",
       "        vertical-align: middle;\n",
       "    }\n",
       "\n",
       "    .dataframe tbody tr th {\n",
       "        vertical-align: top;\n",
       "    }\n",
       "\n",
       "    .dataframe thead th {\n",
       "        text-align: right;\n",
       "    }\n",
       "</style>\n",
       "<table border=\"1\" class=\"dataframe\">\n",
       "  <thead>\n",
       "    <tr style=\"text-align: right;\">\n",
       "      <th></th>\n",
       "      <th>country</th>\n",
       "      <th>count</th>\n",
       "      <th>percent</th>\n",
       "      <th>cumulative_count</th>\n",
       "      <th>cumulative_percent</th>\n",
       "    </tr>\n",
       "  </thead>\n",
       "  <tbody>\n",
       "    <tr>\n",
       "      <th>0</th>\n",
       "      <td>usa</td>\n",
       "      <td>741</td>\n",
       "      <td>44.584838</td>\n",
       "      <td>741</td>\n",
       "      <td>44.584838</td>\n",
       "    </tr>\n",
       "    <tr>\n",
       "      <th>1</th>\n",
       "      <td>australia</td>\n",
       "      <td>343</td>\n",
       "      <td>20.637786</td>\n",
       "      <td>1084</td>\n",
       "      <td>65.222623</td>\n",
       "    </tr>\n",
       "    <tr>\n",
       "      <th>2</th>\n",
       "      <td>south africa</td>\n",
       "      <td>234</td>\n",
       "      <td>14.079422</td>\n",
       "      <td>1318</td>\n",
       "      <td>79.302046</td>\n",
       "    </tr>\n",
       "    <tr>\n",
       "      <th>3</th>\n",
       "      <td>bahamas</td>\n",
       "      <td>29</td>\n",
       "      <td>1.744886</td>\n",
       "      <td>1347</td>\n",
       "      <td>81.046931</td>\n",
       "    </tr>\n",
       "    <tr>\n",
       "      <th>4</th>\n",
       "      <td>new zealand</td>\n",
       "      <td>21</td>\n",
       "      <td>1.263538</td>\n",
       "      <td>1368</td>\n",
       "      <td>82.310469</td>\n",
       "    </tr>\n",
       "    <tr>\n",
       "      <th>5</th>\n",
       "      <td>reunion</td>\n",
       "      <td>17</td>\n",
       "      <td>1.022864</td>\n",
       "      <td>1385</td>\n",
       "      <td>83.333333</td>\n",
       "    </tr>\n",
       "    <tr>\n",
       "      <th>6</th>\n",
       "      <td>papua new guinea</td>\n",
       "      <td>16</td>\n",
       "      <td>0.962696</td>\n",
       "      <td>1401</td>\n",
       "      <td>84.296029</td>\n",
       "    </tr>\n",
       "    <tr>\n",
       "      <th>7</th>\n",
       "      <td>brazil</td>\n",
       "      <td>16</td>\n",
       "      <td>0.962696</td>\n",
       "      <td>1417</td>\n",
       "      <td>85.258724</td>\n",
       "    </tr>\n",
       "    <tr>\n",
       "      <th>8</th>\n",
       "      <td>mexico</td>\n",
       "      <td>15</td>\n",
       "      <td>0.902527</td>\n",
       "      <td>1432</td>\n",
       "      <td>86.161252</td>\n",
       "    </tr>\n",
       "    <tr>\n",
       "      <th>9</th>\n",
       "      <td>italy</td>\n",
       "      <td>11</td>\n",
       "      <td>0.661853</td>\n",
       "      <td>1443</td>\n",
       "      <td>86.823105</td>\n",
       "    </tr>\n",
       "  </tbody>\n",
       "</table>\n",
       "</div>"
      ],
      "text/plain": [
       "            country  count    percent  cumulative_count  cumulative_percent\n",
       "0               usa    741  44.584838               741           44.584838\n",
       "1         australia    343  20.637786              1084           65.222623\n",
       "2      south africa    234  14.079422              1318           79.302046\n",
       "3           bahamas     29   1.744886              1347           81.046931\n",
       "4       new zealand     21   1.263538              1368           82.310469\n",
       "5           reunion     17   1.022864              1385           83.333333\n",
       "6  papua new guinea     16   0.962696              1401           84.296029\n",
       "7            brazil     16   0.962696              1417           85.258724\n",
       "8            mexico     15   0.902527              1432           86.161252\n",
       "9             italy     11   0.661853              1443           86.823105"
      ]
     },
     "execution_count": 28,
     "metadata": {},
     "output_type": "execute_result"
    }
   ],
   "source": [
    "#sacamos los 10 paises con mas ataques\n",
    "df.stb.freq([\"country\"], thresh= 90)[0:10]"
   ]
  },
  {
   "cell_type": "code",
   "execution_count": 17,
   "metadata": {},
   "outputs": [],
   "source": [
    "paises_top = df.stb.freq([\"country\"], thresh= 90)[0:10]"
   ]
  },
  {
   "cell_type": "code",
   "execution_count": 19,
   "metadata": {},
   "outputs": [],
   "source": [
    "lista_paises = paises_top[\"country\"].unique()"
   ]
  },
  {
   "cell_type": "code",
   "execution_count": 20,
   "metadata": {},
   "outputs": [
    {
     "data": {
      "text/plain": [
       "array(['usa', 'australia', 'south africa', 'bahamas', 'new zealand',\n",
       "       'reunion', 'papua new guinea', 'brazil', 'mexico', 'italy'],\n",
       "      dtype=object)"
      ]
     },
     "execution_count": 20,
     "metadata": {},
     "output_type": "execute_result"
    }
   ],
   "source": [
    "lista_paises"
   ]
  },
  {
   "cell_type": "code",
   "execution_count": 21,
   "metadata": {},
   "outputs": [],
   "source": [
    "#Creamos un df filtrando por los 10 paises con mas ataques de tiburon\n",
    "df10 = df[df[\"country\"].isin(lista_paises)]"
   ]
  },
  {
   "cell_type": "code",
   "execution_count": 27,
   "metadata": {},
   "outputs": [
    {
     "data": {
      "text/html": [
       "<div>\n",
       "<style scoped>\n",
       "    .dataframe tbody tr th:only-of-type {\n",
       "        vertical-align: middle;\n",
       "    }\n",
       "\n",
       "    .dataframe tbody tr th {\n",
       "        vertical-align: top;\n",
       "    }\n",
       "\n",
       "    .dataframe thead th {\n",
       "        text-align: right;\n",
       "    }\n",
       "</style>\n",
       "<table border=\"1\" class=\"dataframe\">\n",
       "  <thead>\n",
       "    <tr style=\"text-align: right;\">\n",
       "      <th></th>\n",
       "      <th>case_number</th>\n",
       "      <th>year</th>\n",
       "      <th>type</th>\n",
       "      <th>country</th>\n",
       "      <th>activity</th>\n",
       "      <th>injury</th>\n",
       "      <th>mes</th>\n",
       "      <th>deceso</th>\n",
       "      <th>genero</th>\n",
       "      <th>especies</th>\n",
       "      <th>edad</th>\n",
       "    </tr>\n",
       "  </thead>\n",
       "  <tbody>\n",
       "    <tr>\n",
       "      <th>0</th>\n",
       "      <td>2018.06.25</td>\n",
       "      <td>2018</td>\n",
       "      <td>Boating</td>\n",
       "      <td>usa</td>\n",
       "      <td>Paddling</td>\n",
       "      <td>No injury to occupant, outrigger canoe and pad...</td>\n",
       "      <td>Jun</td>\n",
       "      <td>N</td>\n",
       "      <td>F</td>\n",
       "      <td>White</td>\n",
       "      <td>57.0</td>\n",
       "    </tr>\n",
       "    <tr>\n",
       "      <th>1</th>\n",
       "      <td>2018.06.03.a</td>\n",
       "      <td>2018</td>\n",
       "      <td>Unprovoked</td>\n",
       "      <td>brazil</td>\n",
       "      <td>Swimming</td>\n",
       "      <td>FATAL</td>\n",
       "      <td>Jun</td>\n",
       "      <td>Y</td>\n",
       "      <td>M</td>\n",
       "      <td>Tiger</td>\n",
       "      <td>18.0</td>\n",
       "    </tr>\n",
       "    <tr>\n",
       "      <th>2</th>\n",
       "      <td>2018.05.26.b</td>\n",
       "      <td>2018</td>\n",
       "      <td>Unprovoked</td>\n",
       "      <td>usa</td>\n",
       "      <td>Walking</td>\n",
       "      <td>Lower left leg bitten</td>\n",
       "      <td>May</td>\n",
       "      <td>N</td>\n",
       "      <td>M</td>\n",
       "      <td>Bull</td>\n",
       "      <td>15.0</td>\n",
       "    </tr>\n",
       "    <tr>\n",
       "      <th>3</th>\n",
       "      <td>2018.05.24</td>\n",
       "      <td>2018</td>\n",
       "      <td>Provoked</td>\n",
       "      <td>australia</td>\n",
       "      <td>Feeding sharks</td>\n",
       "      <td>Minor bite to hand by captive shark. PROVOKED ...</td>\n",
       "      <td>May</td>\n",
       "      <td>N</td>\n",
       "      <td>M</td>\n",
       "      <td>Grey</td>\n",
       "      <td>32.0</td>\n",
       "    </tr>\n",
       "    <tr>\n",
       "      <th>6</th>\n",
       "      <td>2018.04.25.a</td>\n",
       "      <td>2018</td>\n",
       "      <td>Unprovoked</td>\n",
       "      <td>australia</td>\n",
       "      <td>Surfing</td>\n",
       "      <td>No injury, knocked off board by shark</td>\n",
       "      <td>Apr</td>\n",
       "      <td>N</td>\n",
       "      <td>M</td>\n",
       "      <td>Unspecified</td>\n",
       "      <td>60.0</td>\n",
       "    </tr>\n",
       "  </tbody>\n",
       "</table>\n",
       "</div>"
      ],
      "text/plain": [
       "    case_number  year        type    country        activity  \\\n",
       "0    2018.06.25  2018     Boating        usa        Paddling   \n",
       "1  2018.06.03.a  2018  Unprovoked     brazil        Swimming   \n",
       "2  2018.05.26.b  2018  Unprovoked        usa         Walking   \n",
       "3    2018.05.24  2018    Provoked  australia  Feeding sharks   \n",
       "6  2018.04.25.a  2018  Unprovoked  australia         Surfing   \n",
       "\n",
       "                                              injury  mes deceso genero  \\\n",
       "0  No injury to occupant, outrigger canoe and pad...  Jun      N      F   \n",
       "1                                              FATAL  Jun      Y      M   \n",
       "2                              Lower left leg bitten  May      N      M   \n",
       "3  Minor bite to hand by captive shark. PROVOKED ...  May      N      M   \n",
       "6              No injury, knocked off board by shark  Apr      N      M   \n",
       "\n",
       "      especies  edad  \n",
       "0        White  57.0  \n",
       "1        Tiger  18.0  \n",
       "2         Bull  15.0  \n",
       "3         Grey  32.0  \n",
       "6  Unspecified  60.0  "
      ]
     },
     "execution_count": 27,
     "metadata": {},
     "output_type": "execute_result"
    }
   ],
   "source": [
    "df10.head()"
   ]
  },
  {
   "cell_type": "code",
   "execution_count": 25,
   "metadata": {},
   "outputs": [
    {
     "data": {
      "image/png": "[encoded data removed]",
      "text/plain": [
       "<Figure size 720x576 with 1 Axes>"
      ]
     },
     "metadata": {
      "needs_background": "light"
     },
     "output_type": "display_data"
    }
   ],
   "source": [
    "#Hacemos la grafica solo con esos paises\n",
    "sns.countplot(x = \"country\", data = df10)\n",
    "\n",
    "plt.show(); "
   ]
  },
  {
   "cell_type": "markdown",
   "metadata": {},
   "source": [
    "Ahora se ve mucho mejor, podemos afirmar que los paises con mas ataques son EEUU, Australia y Sudafrica con mucha diferencia con el resto"
   ]
  },
  {
   "cell_type": "markdown",
   "metadata": {},
   "source": [
    "1.2. Usando el DataFrame de los 10 paises con más ataques, ¿hay diferencias entre sexos en esos paises?"
   ]
  },
  {
   "cell_type": "code",
   "execution_count": 42,
   "metadata": {},
   "outputs": [
    {
     "data": {
      "image/png": "[encoded data removed]",
      "text/plain": [
       "<Figure size 720x576 with 1 Axes>"
      ]
     },
     "metadata": {
      "needs_background": "light"
     },
     "output_type": "display_data"
    }
   ],
   "source": [
    "#Hacemos una grafica diferenciando por genero\n",
    "sns.countplot(x = \"country\", data = df10, hue= 'genero');\n"
   ]
  },
  {
   "cell_type": "markdown",
   "metadata": {},
   "source": [
    "Vemos que en todos los paises siempre hay mas ataques a hombres que en mujeres. Con mucha diferencia."
   ]
  },
  {
   "cell_type": "markdown",
   "metadata": {},
   "source": [
    "1.3. ¿Qué edad recibe mayor número de ataques? \n",
    "💡 Pista 💡 Para que esta gráfica nos salga legible tendremos que crear antes grupos de edad. \n",
    "\n",
    "Para hacer esto de una forma sencilla tenemos el método pd.cut() que aprendimos en la lección de Limpieza II."
   ]
  },
  {
   "cell_type": "code",
   "execution_count": 34,
   "metadata": {},
   "outputs": [],
   "source": [
    "#Generamos una columna que llamaremos \"rangos_edad\" para que nos divida la columna edad en 4 grupos diferentes\n",
    "df[\"rangos_edad\"] = pd.cut(df[\"edad\"], 4, labels = [\"5-24\", \"25-44\", \"45-64\", \"+65\"])"
   ]
  },
  {
   "cell_type": "code",
   "execution_count": 35,
   "metadata": {},
   "outputs": [
    {
     "data": {
      "text/html": [
       "<div>\n",
       "<style scoped>\n",
       "    .dataframe tbody tr th:only-of-type {\n",
       "        vertical-align: middle;\n",
       "    }\n",
       "\n",
       "    .dataframe tbody tr th {\n",
       "        vertical-align: top;\n",
       "    }\n",
       "\n",
       "    .dataframe thead th {\n",
       "        text-align: right;\n",
       "    }\n",
       "</style>\n",
       "<table border=\"1\" class=\"dataframe\">\n",
       "  <thead>\n",
       "    <tr style=\"text-align: right;\">\n",
       "      <th></th>\n",
       "      <th>case_number</th>\n",
       "      <th>year</th>\n",
       "      <th>type</th>\n",
       "      <th>country</th>\n",
       "      <th>activity</th>\n",
       "      <th>injury</th>\n",
       "      <th>mes</th>\n",
       "      <th>deceso</th>\n",
       "      <th>genero</th>\n",
       "      <th>especies</th>\n",
       "      <th>edad</th>\n",
       "      <th>rangos_edad</th>\n",
       "    </tr>\n",
       "  </thead>\n",
       "  <tbody>\n",
       "    <tr>\n",
       "      <th>0</th>\n",
       "      <td>2018.06.25</td>\n",
       "      <td>2018</td>\n",
       "      <td>Boating</td>\n",
       "      <td>usa</td>\n",
       "      <td>Paddling</td>\n",
       "      <td>No injury to occupant, outrigger canoe and pad...</td>\n",
       "      <td>Jun</td>\n",
       "      <td>N</td>\n",
       "      <td>F</td>\n",
       "      <td>White</td>\n",
       "      <td>57.0</td>\n",
       "      <td>45-64</td>\n",
       "    </tr>\n",
       "    <tr>\n",
       "      <th>1</th>\n",
       "      <td>2018.06.03.a</td>\n",
       "      <td>2018</td>\n",
       "      <td>Unprovoked</td>\n",
       "      <td>brazil</td>\n",
       "      <td>Swimming</td>\n",
       "      <td>FATAL</td>\n",
       "      <td>Jun</td>\n",
       "      <td>Y</td>\n",
       "      <td>M</td>\n",
       "      <td>Tiger</td>\n",
       "      <td>18.0</td>\n",
       "      <td>5-24</td>\n",
       "    </tr>\n",
       "    <tr>\n",
       "      <th>2</th>\n",
       "      <td>2018.05.26.b</td>\n",
       "      <td>2018</td>\n",
       "      <td>Unprovoked</td>\n",
       "      <td>usa</td>\n",
       "      <td>Walking</td>\n",
       "      <td>Lower left leg bitten</td>\n",
       "      <td>May</td>\n",
       "      <td>N</td>\n",
       "      <td>M</td>\n",
       "      <td>Bull</td>\n",
       "      <td>15.0</td>\n",
       "      <td>5-24</td>\n",
       "    </tr>\n",
       "    <tr>\n",
       "      <th>3</th>\n",
       "      <td>2018.05.24</td>\n",
       "      <td>2018</td>\n",
       "      <td>Provoked</td>\n",
       "      <td>australia</td>\n",
       "      <td>Feeding sharks</td>\n",
       "      <td>Minor bite to hand by captive shark. PROVOKED ...</td>\n",
       "      <td>May</td>\n",
       "      <td>N</td>\n",
       "      <td>M</td>\n",
       "      <td>Grey</td>\n",
       "      <td>32.0</td>\n",
       "      <td>25-44</td>\n",
       "    </tr>\n",
       "    <tr>\n",
       "      <th>4</th>\n",
       "      <td>2018.05.13.a</td>\n",
       "      <td>2018</td>\n",
       "      <td>Invalid</td>\n",
       "      <td>england</td>\n",
       "      <td>Fishing</td>\n",
       "      <td>Injured by teeth of a dead porbeagle shark he ...</td>\n",
       "      <td>May</td>\n",
       "      <td>N</td>\n",
       "      <td>M</td>\n",
       "      <td>Unspecified</td>\n",
       "      <td>21.0</td>\n",
       "      <td>5-24</td>\n",
       "    </tr>\n",
       "    <tr>\n",
       "      <th>5</th>\n",
       "      <td>2018.04.28.b</td>\n",
       "      <td>2018</td>\n",
       "      <td>Unprovoked</td>\n",
       "      <td>costa rica</td>\n",
       "      <td>Scuba diving</td>\n",
       "      <td>No injury, shark bit scuba gear</td>\n",
       "      <td>Apr</td>\n",
       "      <td>N</td>\n",
       "      <td>M</td>\n",
       "      <td>Tiger</td>\n",
       "      <td>30.0</td>\n",
       "      <td>25-44</td>\n",
       "    </tr>\n",
       "    <tr>\n",
       "      <th>6</th>\n",
       "      <td>2018.04.25.a</td>\n",
       "      <td>2018</td>\n",
       "      <td>Unprovoked</td>\n",
       "      <td>australia</td>\n",
       "      <td>Surfing</td>\n",
       "      <td>No injury, knocked off board by shark</td>\n",
       "      <td>Apr</td>\n",
       "      <td>N</td>\n",
       "      <td>M</td>\n",
       "      <td>Unspecified</td>\n",
       "      <td>60.0</td>\n",
       "      <td>45-64</td>\n",
       "    </tr>\n",
       "    <tr>\n",
       "      <th>7</th>\n",
       "      <td>2018.04.23</td>\n",
       "      <td>2018</td>\n",
       "      <td>Unprovoked</td>\n",
       "      <td>maldives</td>\n",
       "      <td>Fishing</td>\n",
       "      <td>5-inch cut to hand</td>\n",
       "      <td>Apr</td>\n",
       "      <td>N</td>\n",
       "      <td>M</td>\n",
       "      <td>Tiger</td>\n",
       "      <td>32.0</td>\n",
       "      <td>25-44</td>\n",
       "    </tr>\n",
       "    <tr>\n",
       "      <th>8</th>\n",
       "      <td>2018.04.22</td>\n",
       "      <td>2018</td>\n",
       "      <td>Unprovoked</td>\n",
       "      <td>south africa</td>\n",
       "      <td>Paddle-skiing</td>\n",
       "      <td>No injury, shark bit hole in ski</td>\n",
       "      <td>Apr</td>\n",
       "      <td>N</td>\n",
       "      <td>M</td>\n",
       "      <td>White</td>\n",
       "      <td>33.0</td>\n",
       "      <td>25-44</td>\n",
       "    </tr>\n",
       "    <tr>\n",
       "      <th>9</th>\n",
       "      <td>2018.04.03</td>\n",
       "      <td>2018</td>\n",
       "      <td>Unprovoked</td>\n",
       "      <td>south africa</td>\n",
       "      <td>Surfing</td>\n",
       "      <td>Lacerations to left knee &amp; lower leg</td>\n",
       "      <td>Apr</td>\n",
       "      <td>N</td>\n",
       "      <td>M</td>\n",
       "      <td>White</td>\n",
       "      <td>19.0</td>\n",
       "      <td>5-24</td>\n",
       "    </tr>\n",
       "    <tr>\n",
       "      <th>10</th>\n",
       "      <td>2018.03.31</td>\n",
       "      <td>2018</td>\n",
       "      <td>Unprovoked</td>\n",
       "      <td>usa</td>\n",
       "      <td>Stand-Up Paddleboarding</td>\n",
       "      <td>Injuries to right leg &amp; hand</td>\n",
       "      <td>Mar</td>\n",
       "      <td>N</td>\n",
       "      <td>M</td>\n",
       "      <td>Tiger</td>\n",
       "      <td>25.0</td>\n",
       "      <td>25-44</td>\n",
       "    </tr>\n",
       "    <tr>\n",
       "      <th>11</th>\n",
       "      <td>2018.03.14</td>\n",
       "      <td>2018</td>\n",
       "      <td>Unprovoked</td>\n",
       "      <td>australia</td>\n",
       "      <td>Wading</td>\n",
       "      <td>Minor injuries to legs</td>\n",
       "      <td>Mar</td>\n",
       "      <td>N</td>\n",
       "      <td>M</td>\n",
       "      <td>Unspecified</td>\n",
       "      <td>10.0</td>\n",
       "      <td>5-24</td>\n",
       "    </tr>\n",
       "    <tr>\n",
       "      <th>12</th>\n",
       "      <td>2018.03.09.b</td>\n",
       "      <td>2018</td>\n",
       "      <td>Unprovoked</td>\n",
       "      <td>australia</td>\n",
       "      <td>Swimming</td>\n",
       "      <td>No injury, said to have been charged by sharks...</td>\n",
       "      <td>Mar</td>\n",
       "      <td>N</td>\n",
       "      <td>M</td>\n",
       "      <td>Unspecified</td>\n",
       "      <td>69.0</td>\n",
       "      <td>+65</td>\n",
       "    </tr>\n",
       "    <tr>\n",
       "      <th>13</th>\n",
       "      <td>2018.03.09.a</td>\n",
       "      <td>2018</td>\n",
       "      <td>Unprovoked</td>\n",
       "      <td>australia</td>\n",
       "      <td>Surfing</td>\n",
       "      <td>Minor injury, ankle grazed</td>\n",
       "      <td>Mar</td>\n",
       "      <td>N</td>\n",
       "      <td>M</td>\n",
       "      <td>Unspecified</td>\n",
       "      <td>18.0</td>\n",
       "      <td>5-24</td>\n",
       "    </tr>\n",
       "    <tr>\n",
       "      <th>14</th>\n",
       "      <td>2018.02.23</td>\n",
       "      <td>2018</td>\n",
       "      <td>Unprovoked</td>\n",
       "      <td>australia</td>\n",
       "      <td>Swimming</td>\n",
       "      <td>Laceratons to right leg &amp; foot</td>\n",
       "      <td>Feb</td>\n",
       "      <td>N</td>\n",
       "      <td>F</td>\n",
       "      <td>White</td>\n",
       "      <td>55.0</td>\n",
       "      <td>45-64</td>\n",
       "    </tr>\n",
       "    <tr>\n",
       "      <th>15</th>\n",
       "      <td>2018.02.15</td>\n",
       "      <td>2018</td>\n",
       "      <td>Unprovoked</td>\n",
       "      <td>australia</td>\n",
       "      <td>Walking</td>\n",
       "      <td>Puncture wounds to leff foot &amp; lower leg</td>\n",
       "      <td>Feb</td>\n",
       "      <td>N</td>\n",
       "      <td>M</td>\n",
       "      <td>Bull</td>\n",
       "      <td>35.0</td>\n",
       "      <td>25-44</td>\n",
       "    </tr>\n",
       "    <tr>\n",
       "      <th>16</th>\n",
       "      <td>2018.01.12</td>\n",
       "      <td>2018</td>\n",
       "      <td>Unprovoked</td>\n",
       "      <td>brazil</td>\n",
       "      <td>Surfing</td>\n",
       "      <td>Minor injury to left forearm</td>\n",
       "      <td>Jan</td>\n",
       "      <td>N</td>\n",
       "      <td>M</td>\n",
       "      <td>Unspecified</td>\n",
       "      <td>20.0</td>\n",
       "      <td>5-24</td>\n",
       "    </tr>\n",
       "    <tr>\n",
       "      <th>17</th>\n",
       "      <td>2017.12.31</td>\n",
       "      <td>2017</td>\n",
       "      <td>Unprovoked</td>\n",
       "      <td>usa</td>\n",
       "      <td>Surfing</td>\n",
       "      <td>Severe lacerations to left thigh &amp; knee</td>\n",
       "      <td>Dec</td>\n",
       "      <td>N</td>\n",
       "      <td>F</td>\n",
       "      <td>Tiger</td>\n",
       "      <td>54.0</td>\n",
       "      <td>45-64</td>\n",
       "    </tr>\n",
       "    <tr>\n",
       "      <th>18</th>\n",
       "      <td>2017.11.24</td>\n",
       "      <td>2017</td>\n",
       "      <td>Unprovoked</td>\n",
       "      <td>usa</td>\n",
       "      <td>Spearfishing</td>\n",
       "      <td>Right leg bitten</td>\n",
       "      <td>Nov</td>\n",
       "      <td>N</td>\n",
       "      <td>M</td>\n",
       "      <td>White</td>\n",
       "      <td>25.0</td>\n",
       "      <td>25-44</td>\n",
       "    </tr>\n",
       "    <tr>\n",
       "      <th>19</th>\n",
       "      <td>2017.11.13</td>\n",
       "      <td>2017</td>\n",
       "      <td>Unprovoked</td>\n",
       "      <td>australia</td>\n",
       "      <td>Surfing</td>\n",
       "      <td>Puncture wounds to left shoulder</td>\n",
       "      <td>Nov</td>\n",
       "      <td>N</td>\n",
       "      <td>M</td>\n",
       "      <td>Unspecified</td>\n",
       "      <td>25.0</td>\n",
       "      <td>25-44</td>\n",
       "    </tr>\n",
       "  </tbody>\n",
       "</table>\n",
       "</div>"
      ],
      "text/plain": [
       "     case_number  year        type       country                 activity  \\\n",
       "0     2018.06.25  2018     Boating           usa                 Paddling   \n",
       "1   2018.06.03.a  2018  Unprovoked        brazil                 Swimming   \n",
       "2   2018.05.26.b  2018  Unprovoked           usa                  Walking   \n",
       "3     2018.05.24  2018    Provoked     australia           Feeding sharks   \n",
       "4   2018.05.13.a  2018     Invalid       england                  Fishing   \n",
       "5   2018.04.28.b  2018  Unprovoked    costa rica             Scuba diving   \n",
       "6   2018.04.25.a  2018  Unprovoked     australia                  Surfing   \n",
       "7     2018.04.23  2018  Unprovoked      maldives                  Fishing   \n",
       "8     2018.04.22  2018  Unprovoked  south africa            Paddle-skiing   \n",
       "9     2018.04.03  2018  Unprovoked  south africa                  Surfing   \n",
       "10    2018.03.31  2018  Unprovoked           usa  Stand-Up Paddleboarding   \n",
       "11    2018.03.14  2018  Unprovoked     australia                   Wading   \n",
       "12  2018.03.09.b  2018  Unprovoked     australia                 Swimming   \n",
       "13  2018.03.09.a  2018  Unprovoked     australia                  Surfing   \n",
       "14    2018.02.23  2018  Unprovoked     australia                 Swimming   \n",
       "15    2018.02.15  2018  Unprovoked     australia                  Walking   \n",
       "16    2018.01.12  2018  Unprovoked        brazil                  Surfing   \n",
       "17    2017.12.31  2017  Unprovoked           usa                  Surfing   \n",
       "18    2017.11.24  2017  Unprovoked           usa             Spearfishing   \n",
       "19    2017.11.13  2017  Unprovoked     australia                  Surfing   \n",
       "\n",
       "                                               injury  mes deceso genero  \\\n",
       "0   No injury to occupant, outrigger canoe and pad...  Jun      N      F   \n",
       "1                                               FATAL  Jun      Y      M   \n",
       "2                               Lower left leg bitten  May      N      M   \n",
       "3   Minor bite to hand by captive shark. PROVOKED ...  May      N      M   \n",
       "4   Injured by teeth of a dead porbeagle shark he ...  May      N      M   \n",
       "5                     No injury, shark bit scuba gear  Apr      N      M   \n",
       "6               No injury, knocked off board by shark  Apr      N      M   \n",
       "7                                  5-inch cut to hand  Apr      N      M   \n",
       "8                    No injury, shark bit hole in ski  Apr      N      M   \n",
       "9                Lacerations to left knee & lower leg  Apr      N      M   \n",
       "10                       Injuries to right leg & hand  Mar      N      M   \n",
       "11                             Minor injuries to legs  Mar      N      M   \n",
       "12  No injury, said to have been charged by sharks...  Mar      N      M   \n",
       "13                         Minor injury, ankle grazed  Mar      N      M   \n",
       "14                     Laceratons to right leg & foot  Feb      N      F   \n",
       "15           Puncture wounds to leff foot & lower leg  Feb      N      M   \n",
       "16                       Minor injury to left forearm  Jan      N      M   \n",
       "17            Severe lacerations to left thigh & knee  Dec      N      F   \n",
       "18                                   Right leg bitten  Nov      N      M   \n",
       "19                   Puncture wounds to left shoulder  Nov      N      M   \n",
       "\n",
       "       especies  edad rangos_edad  \n",
       "0         White  57.0       45-64  \n",
       "1         Tiger  18.0        5-24  \n",
       "2          Bull  15.0        5-24  \n",
       "3          Grey  32.0       25-44  \n",
       "4   Unspecified  21.0        5-24  \n",
       "5         Tiger  30.0       25-44  \n",
       "6   Unspecified  60.0       45-64  \n",
       "7         Tiger  32.0       25-44  \n",
       "8         White  33.0       25-44  \n",
       "9         White  19.0        5-24  \n",
       "10        Tiger  25.0       25-44  \n",
       "11  Unspecified  10.0        5-24  \n",
       "12  Unspecified  69.0         +65  \n",
       "13  Unspecified  18.0        5-24  \n",
       "14        White  55.0       45-64  \n",
       "15         Bull  35.0       25-44  \n",
       "16  Unspecified  20.0        5-24  \n",
       "17        Tiger  54.0       45-64  \n",
       "18        White  25.0       25-44  \n",
       "19  Unspecified  25.0       25-44  "
      ]
     },
     "execution_count": 35,
     "metadata": {},
     "output_type": "execute_result"
    }
   ],
   "source": [
    "df.head(20)"
   ]
  },
  {
   "cell_type": "code",
   "execution_count": 43,
   "metadata": {},
   "outputs": [
    {
     "data": {
      "image/png": "[encoded data removed]",
      "text/plain": [
       "<Figure size 720x576 with 1 Axes>"
      ]
     },
     "metadata": {
      "needs_background": "light"
     },
     "output_type": "display_data"
    }
   ],
   "source": [
    "#Generamos una grafica para visualizar las diferentes frecuencias por edad\n",
    "sns.countplot(x = \"rangos_edad\", data = df);\n",
    "\n"
   ]
  },
  {
   "cell_type": "markdown",
   "metadata": {},
   "source": [
    "Vemos que la franja de edad que mas ataques sufre es entre los 5 y los 24 años. Seguido de los 25-44 años. A partir de los 45 los ataques se reducen"
   ]
  },
  {
   "cell_type": "markdown",
   "metadata": {},
   "source": [
    "2.4. Ataques entre sexos, ¿hay diferencia?"
   ]
  },
  {
   "cell_type": "code",
   "execution_count": 40,
   "metadata": {},
   "outputs": [
    {
     "data": {
      "image/png": "[encoded data removed]",
      "text/plain": [
       "<Figure size 720x576 with 1 Axes>"
      ]
     },
     "metadata": {
      "needs_background": "light"
     },
     "output_type": "display_data"
    }
   ],
   "source": [
    "#Generamos una grafica para visualizar la diferencia entre sexos\n",
    "sns.countplot(x = \"genero\", data = df);\n"
   ]
  },
  {
   "cell_type": "markdown",
   "metadata": {},
   "source": [
    "Claramente sufren mas ataques de tiburon los hombres, con mucha diferencia"
   ]
  },
  {
   "cell_type": "markdown",
   "metadata": {},
   "source": [
    "2.5. ¿Cuando ocurren más ataques? ¿Os sale algo raro en la gráfica? Intentad limpiar un poco los datos para que os salga mejor."
   ]
  },
  {
   "cell_type": "code",
   "execution_count": 41,
   "metadata": {},
   "outputs": [
    {
     "data": {
      "image/png": "[encoded data removed]",
      "text/plain": [
       "<Figure size 720x576 with 1 Axes>"
      ]
     },
     "metadata": {
      "needs_background": "light"
     },
     "output_type": "display_data"
    }
   ],
   "source": [
    "#Generamos la grafica\n",
    "sns.countplot(x = \"mes\", data = df);\n"
   ]
  },
  {
   "cell_type": "markdown",
   "metadata": {},
   "source": [
    "Podemos ver que entre junio y octubre se sufren la mayoria de los ataques. Coincidiria con la temporada de vacaciones de mas gente"
   ]
  }
 ],
 "metadata": {
  "kernelspec": {
   "display_name": "Python 3.9.7 ('base')",
   "language": "python",
   "name": "python3"
  },
  "language_info": {
   "codemirror_mode": {
    "name": "ipython",
    "version": 3
   },
   "file_extension": ".py",
   "mimetype": "text/x-python",
   "name": "python",
   "nbconvert_exporter": "python",
   "pygments_lexer": "ipython3",
   "version": "3.9.7"
  },
  "orig_nbformat": 4,
  "vscode": {
   "interpreter": {
    "hash": "3caf7024699363795119074055a58e45741f300ae36cbc0c7edc7c57844505fc"
   }
  }
 },
 "nbformat": 4,
 "nbformat_minor": 2
}
